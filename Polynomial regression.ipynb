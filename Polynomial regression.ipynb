{
 "cells": [
  {
   "cell_type": "code",
   "execution_count": 29,
   "id": "9eb59854",
   "metadata": {},
   "outputs": [],
   "source": [
    "import itertools\n",
    "import functools\n",
    "import matplotlib.pyplot as plt\n",
    "import seaborn as sns"
   ]
  },
  {
   "cell_type": "code",
   "execution_count": 2,
   "id": "4b5c4f00",
   "metadata": {},
   "outputs": [],
   "source": [
    "def get_combinations(x,degree):\n",
    "    return itertools.combinations_with_replacement(x,degree)\n",
    "\n",
    "\n",
    "def compute_new_feature(items):\n",
    "    # reduce(lambda x, y: x*y, [1,2,3,4,5]) calculates ((((1*2)*3)*4)*5)\n",
    "    return functools.reduce(lambda x,y : x*y, items)\n",
    "\n"
   ]
  },
  {
   "cell_type": "code",
   "execution_count": 7,
   "id": "67478281",
   "metadata": {},
   "outputs": [
    {
     "data": {
      "text/plain": [
       "[(1, 1, 1, 1),\n",
       " (1, 1, 1, 2),\n",
       " (1, 1, 1, 3),\n",
       " (1, 1, 1, 4),\n",
       " (1, 1, 2, 2),\n",
       " (1, 1, 2, 3),\n",
       " (1, 1, 2, 4),\n",
       " (1, 1, 3, 3),\n",
       " (1, 1, 3, 4),\n",
       " (1, 1, 4, 4),\n",
       " (1, 2, 2, 2),\n",
       " (1, 2, 2, 3),\n",
       " (1, 2, 2, 4),\n",
       " (1, 2, 3, 3),\n",
       " (1, 2, 3, 4),\n",
       " (1, 2, 4, 4),\n",
       " (1, 3, 3, 3),\n",
       " (1, 3, 3, 4),\n",
       " (1, 3, 4, 4),\n",
       " (1, 4, 4, 4),\n",
       " (2, 2, 2, 2),\n",
       " (2, 2, 2, 3),\n",
       " (2, 2, 2, 4),\n",
       " (2, 2, 3, 3),\n",
       " (2, 2, 3, 4),\n",
       " (2, 2, 4, 4),\n",
       " (2, 3, 3, 3),\n",
       " (2, 3, 3, 4),\n",
       " (2, 3, 4, 4),\n",
       " (2, 4, 4, 4),\n",
       " (3, 3, 3, 3),\n",
       " (3, 3, 3, 4),\n",
       " (3, 3, 4, 4),\n",
       " (3, 4, 4, 4),\n",
       " (4, 4, 4, 4)]"
      ]
     },
     "execution_count": 7,
     "metadata": {},
     "output_type": "execute_result"
    }
   ],
   "source": [
    "list(get_combinations([1,2,3,4], 4))"
   ]
  },
  {
   "cell_type": "code",
   "execution_count": 8,
   "id": "32c287a8",
   "metadata": {},
   "outputs": [
    {
     "data": {
      "text/plain": [
       "{(1, 1, 1): 1}"
      ]
     },
     "execution_count": 8,
     "metadata": {},
     "output_type": "execute_result"
    }
   ],
   "source": [
    "{items: compute_new_feature(items) for items in get_combinations([1],3)}"
   ]
  },
  {
   "cell_type": "code",
   "execution_count": 9,
   "id": "f1b78e6f",
   "metadata": {},
   "outputs": [
    {
     "data": {
      "text/plain": [
       "{(2, 2, 2): 8, (2, 2, 3): 12, (2, 3, 3): 18, (3, 3, 3): 27}"
      ]
     },
     "execution_count": 9,
     "metadata": {},
     "output_type": "execute_result"
    }
   ],
   "source": [
    "{items: compute_new_feature(items) for items in get_combinations([2,3], 3)}"
   ]
  },
  {
   "cell_type": "code",
   "execution_count": 11,
   "id": "b1c55f28",
   "metadata": {},
   "outputs": [
    {
     "data": {
      "text/plain": [
       "{(1, 1, 1, 1): 1,\n",
       " (1, 1, 1, 4): 4,\n",
       " (1, 1, 4, 4): 16,\n",
       " (1, 4, 4, 4): 64,\n",
       " (4, 4, 4, 4): 256}"
      ]
     },
     "execution_count": 11,
     "metadata": {},
     "output_type": "execute_result"
    }
   ],
   "source": [
    "{items: compute_new_feature(items) for items in get_combinations([1,4], 4)}"
   ]
  },
  {
   "cell_type": "code",
   "execution_count": null,
   "id": "51451c80",
   "metadata": {},
   "outputs": [],
   "source": []
  },
  {
   "cell_type": "code",
   "execution_count": 12,
   "id": "314f3834",
   "metadata": {},
   "outputs": [],
   "source": [
    "import numpy as np\n"
   ]
  },
  {
   "cell_type": "code",
   "execution_count": 13,
   "id": "5e5ec8c8",
   "metadata": {},
   "outputs": [],
   "source": [
    "def polynomial_transform(x, degree, logging = False):\n",
    "    #convets to feature matrix.\n",
    "    if x.ndim == 1:\n",
    "        x = x[:, None]\n",
    "        \n",
    "    x_t = x.transpose() # Transpose the feature matrix\n",
    "    features = [np.ones(len(x))] # populates 1s as first features for each example\n",
    "    \n",
    "    if logging:\n",
    "        print('Input: ',x)\n",
    "    for degree in range(1, degree+1):\n",
    "        for items in get_combinations(x_t, degree):\n",
    "            features.append(compute_new_feature(items)) # combine features in to a new feature\n",
    "            if logging:\n",
    "                print(items, \":\", compute_new_feature(items))\n",
    "    if logging:\n",
    "        print(np.asarray(features).transpose())\n",
    "        \n",
    "    return np.asarray(features).transpose()"
   ]
  },
  {
   "cell_type": "code",
   "execution_count": 22,
   "id": "33a3a579",
   "metadata": {},
   "outputs": [
    {
     "name": "stdout",
     "output_type": "stream",
     "text": [
      "(3, 1)\n",
      "[[1]\n",
      " [2]\n",
      " [3]]\n",
      "(1, 3)\n",
      "[[1 2 3]]\n"
     ]
    }
   ],
   "source": [
    "# testing\n",
    "x = np.array([1,2,3])\n",
    "x = x[:, None]\n",
    "print(x.shape)\n",
    "print(x)\n",
    "\n",
    "print(x.transpose().shape)\n",
    "print(x.transpose())"
   ]
  },
  {
   "cell_type": "code",
   "execution_count": 14,
   "id": "52ea0bac",
   "metadata": {},
   "outputs": [
    {
     "name": "stdout",
     "output_type": "stream",
     "text": [
      "Input:  [[2]]\n",
      "(array([2]),) : [2]\n",
      "(array([2]), array([2])) : [4]\n",
      "(array([2]), array([2]), array([2])) : [8]\n",
      "[[1. 2. 4. 8.]]\n"
     ]
    },
    {
     "data": {
      "text/plain": [
       "array([[1., 2., 4., 8.]])"
      ]
     },
     "execution_count": 14,
     "metadata": {},
     "output_type": "execute_result"
    }
   ],
   "source": [
    "polynomial_transform(np.array([2]), 3, logging = True)"
   ]
  },
  {
   "cell_type": "code",
   "execution_count": 15,
   "id": "76f4ba34",
   "metadata": {},
   "outputs": [
    {
     "name": "stdout",
     "output_type": "stream",
     "text": [
      "Input:  [[2]\n",
      " [3]]\n",
      "(array([2, 3]),) : [2 3]\n",
      "(array([2, 3]), array([2, 3])) : [4 9]\n",
      "[[1. 2. 4.]\n",
      " [1. 3. 9.]]\n"
     ]
    },
    {
     "data": {
      "text/plain": [
       "array([[1., 2., 4.],\n",
       "       [1., 3., 9.]])"
      ]
     },
     "execution_count": 15,
     "metadata": {},
     "output_type": "execute_result"
    }
   ],
   "source": [
    "polynomial_transform(np.array([2,3]), 2 ,logging = True)"
   ]
  },
  {
   "cell_type": "code",
   "execution_count": 16,
   "id": "583e2c7e",
   "metadata": {},
   "outputs": [
    {
     "name": "stdout",
     "output_type": "stream",
     "text": [
      "Input:  [[2]\n",
      " [3]]\n",
      "(array([2, 3]),) : [2 3]\n",
      "(array([2, 3]), array([2, 3])) : [4 9]\n",
      "(array([2, 3]), array([2, 3]), array([2, 3])) : [ 8 27]\n",
      "[[ 1.  2.  4.  8.]\n",
      " [ 1.  3.  9. 27.]]\n"
     ]
    },
    {
     "data": {
      "text/plain": [
       "array([[ 1.,  2.,  4.,  8.],\n",
       "       [ 1.,  3.,  9., 27.]])"
      ]
     },
     "execution_count": 16,
     "metadata": {},
     "output_type": "execute_result"
    }
   ],
   "source": [
    "polynomial_transform(np.array([2,3]), 3 ,logging = True)"
   ]
  },
  {
   "cell_type": "code",
   "execution_count": 25,
   "id": "a5aa43a3",
   "metadata": {},
   "outputs": [
    {
     "name": "stdout",
     "output_type": "stream",
     "text": [
      "Input:  [[2 3]\n",
      " [4 5]]\n",
      "(array([2, 4]),) : [2 4]\n",
      "(array([3, 5]),) : [3 5]\n",
      "(array([2, 4]), array([2, 4])) : [ 4 16]\n",
      "(array([2, 4]), array([3, 5])) : [ 6 20]\n",
      "(array([3, 5]), array([3, 5])) : [ 9 25]\n",
      "(array([2, 4]), array([2, 4]), array([2, 4])) : [ 8 64]\n",
      "(array([2, 4]), array([2, 4]), array([3, 5])) : [12 80]\n",
      "(array([2, 4]), array([3, 5]), array([3, 5])) : [ 18 100]\n",
      "(array([3, 5]), array([3, 5]), array([3, 5])) : [ 27 125]\n",
      "[[  1.   2.   3.   4.   6.   9.   8.  12.  18.  27.]\n",
      " [  1.   4.   5.  16.  20.  25.  64.  80. 100. 125.]]\n"
     ]
    },
    {
     "data": {
      "text/plain": [
       "array([[  1.,   2.,   3.,   4.,   6.,   9.,   8.,  12.,  18.,  27.],\n",
       "       [  1.,   4.,   5.,  16.,  20.,  25.,  64.,  80., 100., 125.]])"
      ]
     },
     "execution_count": 25,
     "metadata": {},
     "output_type": "execute_result"
    }
   ],
   "source": [
    "polynomial_transform(np.array([[2,3], [4,5]]), degree = 3, logging = True)"
   ]
  },
  {
   "cell_type": "code",
   "execution_count": 26,
   "id": "f1af8568",
   "metadata": {},
   "outputs": [
    {
     "data": {
      "text/plain": [
       "array([[2, 3],\n",
       "       [4, 5]])"
      ]
     },
     "execution_count": 26,
     "metadata": {},
     "output_type": "execute_result"
    }
   ],
   "source": [
    "np.array([[2,3], [4,5]])"
   ]
  },
  {
   "cell_type": "code",
   "execution_count": null,
   "id": "47b33a59",
   "metadata": {},
   "outputs": [],
   "source": []
  },
  {
   "cell_type": "code",
   "execution_count": null,
   "id": "2cd2da7b",
   "metadata": {},
   "outputs": [],
   "source": []
  },
  {
   "cell_type": "code",
   "execution_count": 27,
   "id": "4cd2a14d",
   "metadata": {},
   "outputs": [
    {
     "data": {
      "text/plain": [
       "array([[ 1.,  2.,  4.],\n",
       "       [ 1.,  3.,  9.],\n",
       "       [ 1.,  4., 16.]])"
      ]
     },
     "execution_count": 27,
     "metadata": {},
     "output_type": "execute_result"
    }
   ],
   "source": [
    "x_ = np.array([2,3,4])\n",
    "np.c_[np.ones((3,1)), x_, x_**2, ]"
   ]
  },
  {
   "cell_type": "code",
   "execution_count": 28,
   "id": "328853d0",
   "metadata": {},
   "outputs": [
    {
     "data": {
      "text/plain": [
       "(3,)"
      ]
     },
     "execution_count": 28,
     "metadata": {},
     "output_type": "execute_result"
    }
   ],
   "source": []
  },
  {
   "cell_type": "markdown",
   "id": "d297d2bd",
   "metadata": {},
   "source": [
    "# Non-linear training data generation"
   ]
  },
  {
   "cell_type": "markdown",
   "id": "3ca1ca4c",
   "metadata": {},
   "source": [
    "Creating a training set where the output set is obtained by first calculating sin(2*pi*x) and then adding a samll random noise having a gaussian distribution"
   ]
  },
  {
   "cell_type": "code",
   "execution_count": 32,
   "id": "1edfcc02",
   "metadata": {},
   "outputs": [],
   "source": [
    "def create_nonlin_training_set(func, sample_size, std):\n",
    "    x = np.linspace(0,1,sample_size)\n",
    "    y = func(x) + np.random.normal(scale = std, size = x.shape)\n",
    "    return x,y\n",
    "\n",
    "def nonlin(x):\n",
    "    return np.sin(2 * np.pi * x)"
   ]
  },
  {
   "cell_type": "code",
   "execution_count": 36,
   "id": "d88c908b",
   "metadata": {},
   "outputs": [],
   "source": [
    "# @title [Visualization]\n",
    "\n",
    "def visualize_training_data(X_train, y_train):\n",
    "    points = np.linspace(0, 1, 100)\n",
    "    output = nonlin(points)\n",
    "    \n",
    "    plt.scatter(X_train, y_train, facecolor = 'none', edgecolor='b',\n",
    "                   s = 50, label = 'training data')\n",
    "    plt.plot(points, output, c = 'g', label = \"$\\sin(2\\pi x)$\")\n",
    "    plt.xlabel('$x_1$')\n",
    "    plt.ylabel('y')\n",
    "    plt.legend()\n",
    "    plt.show()\n",
    "    \n",
    "\n",
    "def visualize_model_fit(X,y, lin_reg, degree):\n",
    "    # plots trained model along with the data generation functon\n",
    "    points = np.linspace(0,1,100)\n",
    "    output = nonlin(points)\n",
    "    \n",
    "    if degree > 0:\n",
    "        plt.scatter(X,y, facecolor = 'none', edgecolor = 'b', s = 50,\n",
    "                   label = \"training data\")\n",
    "        plt.plot(points, output, c = 'g', label = \"$\\sin\\(2\\pi x)$\")\n",
    "        \n",
    "        y_hat = lin_reg.predict(polynomial_trasform(points, degree))\n",
    "        plt.plot(points, y_hat, c = 'r', label = \"$h_mathbf{w}{x}$\")\n",
    "        plt.xlabel('$x_1$')\n",
    "        plt.ylabel('y')\n",
    "        plt.ylim(-1.5, 1.5)\n",
    "        plt.title(\"M = {}\".format(degree)) #, xy = (-0.15, 1)"
   ]
  },
  {
   "cell_type": "code",
   "execution_count": 42,
   "id": "529376bb",
   "metadata": {},
   "outputs": [
    {
     "data": {
      "image/png": "[encoded data removed]",
      "text/plain": [
       "<Figure size 432x288 with 1 Axes>"
      ]
     },
     "metadata": {
      "needs_background": "light"
     },
     "output_type": "display_data"
    }
   ],
   "source": [
    "num_samples = 10\n",
    "X,y = create_nonlin_training_set(nonlin, num_samples, 0.1)\n",
    "visualize_training_data(X,y)"
   ]
  },
  {
   "cell_type": "code",
   "execution_count": 43,
   "id": "7108de0e",
   "metadata": {},
   "outputs": [
    {
     "ename": "NameError",
     "evalue": "name 'LinReg' is not defined",
     "output_type": "error",
     "traceback": [
      "\u001b[1;31m---------------------------------------------------------------------------\u001b[0m",
      "\u001b[1;31mNameError\u001b[0m                                 Traceback (most recent call last)",
      "\u001b[1;32m<ipython-input-43-4dc870df0b83>\u001b[0m in \u001b[0;36m<module>\u001b[1;34m\u001b[0m\n\u001b[0;32m      1\u001b[0m \u001b[0mdegree\u001b[0m \u001b[1;33m=\u001b[0m \u001b[1;36m2\u001b[0m\u001b[1;33m\u001b[0m\u001b[1;33m\u001b[0m\u001b[0m\n\u001b[0;32m      2\u001b[0m \u001b[0mX_transform\u001b[0m \u001b[1;33m=\u001b[0m \u001b[0mpolynomial_transform\u001b[0m\u001b[1;33m(\u001b[0m\u001b[0mX\u001b[0m\u001b[1;33m,\u001b[0m\u001b[0mdegree\u001b[0m\u001b[1;33m)\u001b[0m\u001b[1;33m\u001b[0m\u001b[1;33m\u001b[0m\u001b[0m\n\u001b[1;32m----> 3\u001b[1;33m \u001b[0mlin_reg\u001b[0m \u001b[1;33m=\u001b[0m \u001b[0mLinReg\u001b[0m\u001b[1;33m(\u001b[0m\u001b[1;33m)\u001b[0m\u001b[1;33m\u001b[0m\u001b[1;33m\u001b[0m\u001b[0m\n\u001b[0m\u001b[0;32m      4\u001b[0m \u001b[0mlin_reg\u001b[0m\u001b[1;33m.\u001b[0m\u001b[0mfit\u001b[0m\u001b[1;33m(\u001b[0m\u001b[0mX_trainsform\u001b[0m\u001b[1;33m,\u001b[0m \u001b[0my\u001b[0m\u001b[1;33m)\u001b[0m\u001b[1;33m\u001b[0m\u001b[1;33m\u001b[0m\u001b[0m\n\u001b[0;32m      5\u001b[0m \u001b[0mvisualize_model_fit\u001b[0m\u001b[1;33m(\u001b[0m\u001b[0mX\u001b[0m\u001b[1;33m,\u001b[0m\u001b[0my\u001b[0m\u001b[1;33m,\u001b[0m \u001b[0mlin_reg\u001b[0m\u001b[1;33m,\u001b[0m \u001b[0mdegree\u001b[0m\u001b[1;33m)\u001b[0m\u001b[1;33m\u001b[0m\u001b[1;33m\u001b[0m\u001b[0m\n",
      "\u001b[1;31mNameError\u001b[0m: name 'LinReg' is not defined"
     ]
    }
   ],
   "source": [
    "degree = 2\n",
    "X_transform = polynomial_transform(X,degree)\n",
    "lin_reg = LinReg()\n",
    "lin_reg.fit(X_trainsform, y)\n",
    "visualize_model_fit(X,y, lin_reg, degree)"
   ]
  },
  {
   "cell_type": "code",
   "execution_count": null,
   "id": "74e56a8c",
   "metadata": {},
   "outputs": [],
   "source": []
  }
 ],
 "metadata": {
  "kernelspec": {
   "display_name": "Python 3 (ipykernel)",
   "language": "python",
   "name": "python3"
  },
  "language_info": {
   "codemirror_mode": {
    "name": "ipython",
    "version": 3
   },
   "file_extension": ".py",
   "mimetype": "text/x-python",
   "name": "python",
   "nbconvert_exporter": "python",
   "pygments_lexer": "ipython3",
   "version": "3.8.8"
  }
 },
 "nbformat": 4,
 "nbformat_minor": 5
}
