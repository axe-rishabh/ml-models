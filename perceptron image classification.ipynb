{
 "cells": [
  {
   "cell_type": "code",
   "execution_count": 1,
   "id": "d40aed6e",
   "metadata": {},
   "outputs": [],
   "source": [
    "import numpy as np\n",
    "import os\n",
    "import io\n",
    "import warnings\n",
    "warnings.filterwarnings('ignore')\n",
    "import matplotlib.pyplot as plt\n",
    "import seaborn as sns"
   ]
  },
  {
   "cell_type": "code",
   "execution_count": 2,
   "id": "606d4889",
   "metadata": {},
   "outputs": [],
   "source": [
    "from sklearn.datasets import fetch_openml\n",
    "from sklearn.preprocessing import MinMaxScaler\n",
    "from sklearn.pipeline import Pipeline\n",
    "from sklearn.dummy import DummyClassifier\n",
    "from sklearn.linear_model import Perceptron\n",
    "from sklearn.metrics import hinge_loss\n",
    "from sklearn.metrics import (ConfusionMatrixDisplay, confusion_matrix,\n",
    "                    precision_recall_curve, classification_report, precision_score,\n",
    "                    recall_score, make_scorer)\n",
    "\n",
    "from sklearn.model_selection import cross_validate, cross_val_predict, GridSearchCV\n",
    "\n",
    "from pprint import pprint\n",
    "\n",
    "\n",
    "\n"
   ]
  },
  {
   "cell_type": "markdown",
   "id": "db5562a5",
   "metadata": {},
   "source": [
    "# Data loading and splitting"
   ]
  },
  {
   "cell_type": "code",
   "execution_count": 3,
   "id": "fb898816",
   "metadata": {},
   "outputs": [],
   "source": [
    "X,y = fetch_openml('mnist_784', version=1, return_X_y = True)\n"
   ]
  },
  {
   "cell_type": "code",
   "execution_count": 4,
   "id": "dee21d77",
   "metadata": {},
   "outputs": [],
   "source": [
    "X = X.to_numpy()\n",
    "y = y.to_numpy()"
   ]
  },
  {
   "cell_type": "code",
   "execution_count": 5,
   "id": "4693e929",
   "metadata": {},
   "outputs": [],
   "source": [
    "target_names = np.unique(y)"
   ]
  },
  {
   "cell_type": "code",
   "execution_count": 6,
   "id": "b9c46fea",
   "metadata": {},
   "outputs": [
    {
     "data": {
      "text/plain": [
       "array(['0', '1', '2', '3', '4', '5', '6', '7', '8', '9'], dtype=object)"
      ]
     },
     "execution_count": 6,
     "metadata": {},
     "output_type": "execute_result"
    }
   ],
   "source": [
    "target_names"
   ]
  },
  {
   "cell_type": "code",
   "execution_count": 7,
   "id": "a7f09af3",
   "metadata": {},
   "outputs": [
    {
     "name": "stdout",
     "output_type": "stream",
     "text": [
      "Number of Samples: (70000, 784), datatype, float64\n",
      "Minimum: 0.0, Maximum 255.0\n"
     ]
    }
   ],
   "source": [
    "print(\"Number of Samples: {0}, datatype, {1}\".format(X.shape, X.dtype))\n",
    "print(\"Minimum: {0}, Maximum {1}\".format(np.min(X), np.max(X)))"
   ]
  },
  {
   "cell_type": "markdown",
   "id": "23089da2",
   "metadata": {},
   "source": [
    "# Scaling X with MinMaxScaler"
   ]
  },
  {
   "cell_type": "code",
   "execution_count": 8,
   "id": "226a0667",
   "metadata": {},
   "outputs": [],
   "source": [
    "X = MinMaxScaler().fit_transform(X)"
   ]
  },
  {
   "cell_type": "code",
   "execution_count": 9,
   "id": "2c195d32",
   "metadata": {},
   "outputs": [
    {
     "name": "stdout",
     "output_type": "stream",
     "text": [
      "Min: 0.0, Max: 1.0\n"
     ]
    }
   ],
   "source": [
    "print(\"Min: {0}, Max: {1}\".format(np.min(X), np.max(X)))"
   ]
  },
  {
   "cell_type": "markdown",
   "id": "3bd8d816",
   "metadata": {},
   "source": [
    "# Visualizing the images"
   ]
  },
  {
   "cell_type": "code",
   "execution_count": 10,
   "id": "7bf23900",
   "metadata": {},
   "outputs": [
    {
     "data": {
      "image/png": "[encoded data removed]",
      "text/plain": [
       "<Figure size 576x432 with 9 Axes>"
      ]
     },
     "metadata": {
      "needs_background": "light"
     },
     "output_type": "display_data"
    }
   ],
   "source": [
    "num_images = 9\n",
    "factor = np.int(np.sqrt(num_images))\n",
    "\n",
    "fig,ax = plt.subplots(nrows = factor, ncols = factor, figsize = (8,6))\n",
    "\n",
    "idx_offset = 0 #  takes num_images starting from the index 'idx_offset'\n",
    "\n",
    "for i in range(factor):\n",
    "    index = idx_offset + i*(factor)\n",
    "\n",
    "    for j in range(factor):\n",
    "        ax[i,j].imshow(X[index+j].reshape(28,28), cmap = 'gray')\n",
    "        ax[i,j].set_title('Label: {0}'.format(str(y[index+j])))\n",
    "        ax[i,j].set_axis_off()"
   ]
  },
  {
   "cell_type": "markdown",
   "id": "bf0bad81",
   "metadata": {},
   "source": [
    "# Train test split"
   ]
  },
  {
   "cell_type": "code",
   "execution_count": 11,
   "id": "1a36554f",
   "metadata": {},
   "outputs": [],
   "source": [
    "X_train, X_test, y_train, y_test = X[:60000], X[60000:], y[:60000], y[60000:]"
   ]
  },
  {
   "cell_type": "markdown",
   "id": "6ada496d",
   "metadata": {},
   "source": [
    "Count plotting to check if the data is imbalanced or not"
   ]
  },
  {
   "cell_type": "code",
   "execution_count": 12,
   "id": "5edf6194",
   "metadata": {},
   "outputs": [
    {
     "data": {
      "image/png": "[encoded data removed]",
      "text/plain": [
       "<Figure size 720x288 with 1 Axes>"
      ]
     },
     "metadata": {
      "needs_background": "light"
     },
     "output_type": "display_data"
    }
   ],
   "source": [
    "plt.figure(figsize = (10,4))\n",
    "sns.histplot(data = np.int8(y_train), binwidth = 0.45, bins=11)\n",
    "plt.xticks(ticks = [0,1,2,3,4,5,6,7,8,9], labels = [0,1,2,3,4,5,6,7,8,9])\n",
    "plt.xlabel('Class')\n",
    "plt.title(\"Distribution of Samples\")\n",
    "plt.show()"
   ]
  },
  {
   "cell_type": "code",
   "execution_count": 13,
   "id": "538f4758",
   "metadata": {},
   "outputs": [],
   "source": [
    "y_train_0 = np.where(y_train == '0' , 1, -1)\n",
    "y_test_0 = np.where(y_test == '0' ,1,-1)"
   ]
  },
  {
   "cell_type": "markdown",
   "id": "dc8ecfda",
   "metadata": {},
   "source": [
    "# Dummy classifier"
   ]
  },
  {
   "cell_type": "code",
   "execution_count": 14,
   "id": "0502cf6e",
   "metadata": {},
   "outputs": [],
   "source": [
    "strategies = ['most_frequent', 'stratified', 'uniform', 'constant']\n",
    "const = 1\n",
    "test_score = []\n",
    "for s in strategies:\n",
    "    if s == 'constant':\n",
    "        dclf = DummyClassifier(strategy = s, random_state=0, constant=1)\n",
    "    else:\n",
    "        dclf = DummyClassifier(strategy = s, random_state = 0)\n",
    "        dclf.fit(X_train, y_train_0)\n",
    "        score = dclf.score(X_test, y_test_0)\n",
    "        test_score.append(score)"
   ]
  },
  {
   "cell_type": "code",
   "execution_count": null,
   "id": "bb4cc649",
   "metadata": {},
   "outputs": [],
   "source": []
  },
  {
   "cell_type": "code",
   "execution_count": 15,
   "id": "797f10f2",
   "metadata": {},
   "outputs": [
    {
     "name": "stdout",
     "output_type": "stream",
     "text": [
      "0.9012833333333333\n",
      "0.902\n"
     ]
    }
   ],
   "source": [
    "dclf = DummyClassifier(strategy = 'most_frequent', random_state = 0)\n",
    "dclf.fit(X_train, y_train_0)\n",
    "print(dclf.score(X_train, y_train_0))\n",
    "print(dclf.score(X_test, y_test_0))"
   ]
  },
  {
   "cell_type": "markdown",
   "id": "eb27db21",
   "metadata": {},
   "source": [
    "# Perceptron model"
   ]
  },
  {
   "cell_type": "code",
   "execution_count": 16,
   "id": "ec9726c6",
   "metadata": {},
   "outputs": [],
   "source": [
    "from sklearn.linear_model import Perceptron\n",
    "bin_clf = Perceptron(max_iter = 100, random_state=42)\n"
   ]
  },
  {
   "cell_type": "code",
   "execution_count": 17,
   "id": "2e785edd",
   "metadata": {},
   "outputs": [
    {
     "name": "stdout",
     "output_type": "stream",
     "text": [
      "Dimension of Weights: (1, 784)\n",
      "Bias: [-96.]\n",
      "The Local function: <sklearn.linear_model._sgd_fast.Hinge object at 0x00000210B8CF90D0>\n"
     ]
    }
   ],
   "source": [
    "bin_clf.fit(X_train, y_train_0)\n",
    "print(\"Dimension of Weights: {0}\".format(bin_clf.coef_.shape))\n",
    "print(\"Bias: {0}\".format(bin_clf.intercept_))\n",
    "print(\"The Local function: {0}\".format(bin_clf.loss_function_))"
   ]
  },
  {
   "cell_type": "code",
   "execution_count": 18,
   "id": "60aaec2c",
   "metadata": {},
   "outputs": [
    {
     "name": "stdout",
     "output_type": "stream",
     "text": [
      "Training Accuracy:  0.9907\n"
     ]
    }
   ],
   "source": [
    "y_hat_train_0 = bin_clf.predict(X_train)\n",
    "print('Training Accuracy: ', bin_clf.score(X_test, y_test_0))"
   ]
  },
  {
   "cell_type": "markdown",
   "id": "3a2f510c",
   "metadata": {},
   "source": [
    "### Displaying predictions "
   ]
  },
  {
   "cell_type": "code",
   "execution_count": 19,
   "id": "363247e6",
   "metadata": {},
   "outputs": [
    {
     "data": {
      "image/png": "[encoded data removed]",
      "text/plain": [
       "<Figure size 576x432 with 9 Axes>"
      ]
     },
     "metadata": {
      "needs_background": "light"
     },
     "output_type": "display_data"
    }
   ],
   "source": [
    "y_hat_test_0 = bin_clf.predict(X_test)\n",
    "num_images = 9\n",
    "factor = np.int(np.sqrt(num_images))\n",
    "fig,ax = plt.subplots(nrows = factor, ncols = factor, figsize = (8,6))\n",
    "\n",
    "idx_offset = 0\n",
    "for i in range(factor):\n",
    "    index = idx_offset +i * (factor)\n",
    "    for j in range(factor):\n",
    "        ax[i, j].imshow(X_test[index+j].reshape(28,28), cmap = 'gray')\n",
    "        ax[i,j].set_title('Prediction: {0}'.format(str(y_hat_test_0[index+j])))\n",
    "        ax[i,j].set_axis_off()"
   ]
  },
  {
   "cell_type": "code",
   "execution_count": 20,
   "id": "45574505",
   "metadata": {},
   "outputs": [],
   "source": [
    "indx_0 = np.where(y_test_0 == 1)"
   ]
  },
  {
   "cell_type": "code",
   "execution_count": 21,
   "id": "e3deded3",
   "metadata": {},
   "outputs": [
    {
     "data": {
      "image/png": "[encoded data removed]",
      "text/plain": [
       "<Figure size 576x432 with 9 Axes>"
      ]
     },
     "metadata": {
      "needs_background": "light"
     },
     "output_type": "display_data"
    }
   ],
   "source": [
    "zeroImgs = X_test[indx_0[0]]\n",
    "zeroLabls = y_hat_test_0[indx_0[0]]\n",
    "num_images = 9\n",
    "\n",
    "factor = np.int(np.sqrt(num_images))\n",
    "\n",
    "fig, ax = plt.subplots(nrows = factor, ncols = factor, figsize = (8,6))\n",
    "\n",
    "idx_offset = 0\n",
    "for i in range(factor):\n",
    "    index = idx_offset + i*(factor)\n",
    "    for j in range(factor):\n",
    "        ax[i,j].imshow(zeroImgs[index + j].reshape(28,28), cmap = 'gray')\n",
    "        ax[i,j].set_title('Prediction: {0}'.format(str(zeroLabls[index+j])))\n",
    "        ax[i,j].set_axis_off()"
   ]
  },
  {
   "cell_type": "code",
   "execution_count": 22,
   "id": "7f17a3f4",
   "metadata": {},
   "outputs": [
    {
     "name": "stdout",
     "output_type": "stream",
     "text": [
      "0.9581632653061225\n"
     ]
    }
   ],
   "source": [
    "num_misclassified = np.count_nonzero(zeroLabls == -1)\n",
    "num_correctpred = len(zeroLabls) - num_misclassified\n",
    "accuracy = num_correctpred/len(zeroLabls)\n",
    "print(accuracy)"
   ]
  },
  {
   "cell_type": "markdown",
   "id": "392ca08e",
   "metadata": {},
   "source": [
    "### Confusion matrix"
   ]
  },
  {
   "cell_type": "code",
   "execution_count": 23,
   "id": "01be55de",
   "metadata": {},
   "outputs": [
    {
     "data": {
      "image/png": "[encoded data removed]",
      "text/plain": [
       "<Figure size 432x288 with 2 Axes>"
      ]
     },
     "metadata": {
      "needs_background": "light"
     },
     "output_type": "display_data"
    }
   ],
   "source": [
    "y_hat_train_0 = bin_clf.predict(X_train)\n",
    "cm_display = ConfusionMatrixDisplay.from_predictions(y_train_0, y_hat_train_0, values_format = '.5g')"
   ]
  },
  {
   "cell_type": "markdown",
   "id": "2b764ad2",
   "metadata": {},
   "source": [
    "## Precision and Recall"
   ]
  },
  {
   "cell_type": "code",
   "execution_count": 24,
   "id": "fe30c3ee",
   "metadata": {},
   "outputs": [],
   "source": [
    "cf_matrix = cm_display.confusion_matrix\n",
    "tn = cf_matrix[0,0]\n",
    "fn = cf_matrix[1,0]\n",
    "fp = cf_matrix[0,1]\n",
    "tp = cf_matrix[1,1]"
   ]
  },
  {
   "cell_type": "code",
   "execution_count": 25,
   "id": "e6299e59",
   "metadata": {},
   "outputs": [
    {
     "name": "stdout",
     "output_type": "stream",
     "text": [
      "Precision:  0.9678030303030303\n",
      "Recall 0.9490123248353874\n",
      "Accuracy:  0.99185\n"
     ]
    }
   ],
   "source": [
    "precision = tp/(tp+fp)\n",
    "print('Precision: ', precision)\n",
    "\n",
    "recall = tp/ (tp+ fn)\n",
    "print('Recall', recall)\n",
    "\n",
    "accuracy = (tn+tp) / (tn + tp+fn+fp)\n",
    "print(\"Accuracy: \", accuracy)"
   ]
  },
  {
   "cell_type": "markdown",
   "id": "5180b066",
   "metadata": {},
   "source": [
    "### cross validation"
   ]
  },
  {
   "cell_type": "code",
   "execution_count": 26,
   "id": "fd6c9c10",
   "metadata": {},
   "outputs": [
    {
     "name": "stdout",
     "output_type": "stream",
     "text": [
      "{'estimator': [Perceptron(max_iter=100, random_state=24),\n",
      "               Perceptron(max_iter=100, random_state=24),\n",
      "               Perceptron(max_iter=100, random_state=24),\n",
      "               Perceptron(max_iter=100, random_state=24),\n",
      "               Perceptron(max_iter=100, random_state=24)],\n",
      " 'fit_time': array([7.55159783, 9.18870521, 9.21875453, 9.15272021, 9.48948312]),\n",
      " 'score_time': array([0.15453243, 0.05500126, 0.05800033, 0.05000305, 0.05100274]),\n",
      " 'test_f1': array([nan, nan, nan, nan, nan]),\n",
      " 'test_precision': array([nan, nan, nan, nan, nan]),\n",
      " 'test_recall': array([nan, nan, nan, nan, nan])}\n"
     ]
    }
   ],
   "source": [
    "bin_clf = Perceptron(max_iter = 100, random_state=24)\n",
    "scores = cross_validate(bin_clf, X_train, y_train, cv=5,\n",
    "                scoring = ['precision', 'recall', 'f1'],\n",
    "                return_estimator = True)\n",
    "pprint(scores)"
   ]
  },
  {
   "cell_type": "markdown",
   "id": "9017f79a",
   "metadata": {},
   "source": [
    "bin_clf = scores['estimator'][0]\n",
    "y_hat_test_0 = bin_clf.predict(X_test)\n",
    "cm_display = ConfusionMatrixDisplay.from_predictions(y_test_0, y_hat_test_0, values_format = '0.5g')"
   ]
  },
  {
   "cell_type": "code",
   "execution_count": 27,
   "id": "d504ba8f",
   "metadata": {},
   "outputs": [
    {
     "data": {
      "image/png": "[encoded data removed]",
      "text/plain": [
       "<Figure size 432x288 with 1 Axes>"
      ]
     },
     "metadata": {
      "needs_background": "light"
     },
     "output_type": "display_data"
    }
   ],
   "source": [
    "bin_clf = Perceptron(random_state=42)\n",
    "bin_clf.fit(X_train, y_train_0)\n",
    "y_scores = bin_clf.decision_function(X_train)\n",
    "sns.histplot(np.sort(y_scores))\n",
    "plt.show()"
   ]
  },
  {
   "cell_type": "markdown",
   "id": "f27e28de",
   "metadata": {},
   "source": [
    "### Precision recall thresholds"
   ]
  },
  {
   "cell_type": "code",
   "execution_count": 28,
   "id": "6584e095",
   "metadata": {},
   "outputs": [],
   "source": [
    "precisions, recalls, thresholds = precision_recall_curve(y_train_0, y_scores, pos_label=1)"
   ]
  },
  {
   "cell_type": "code",
   "execution_count": 29,
   "id": "b58890e4",
   "metadata": {},
   "outputs": [
    {
     "data": {
      "image/png": "[encoded data removed]",
      "text/plain": [
       "<Figure size 720x288 with 1 Axes>"
      ]
     },
     "metadata": {
      "needs_background": "light"
     },
     "output_type": "display_data"
    }
   ],
   "source": [
    "plt.figure(figsize = (10,4))\n",
    "plt.plot(thresholds, precisions[:-1], 'b--', label = \"Precision\")\n",
    "plt.plot(thresholds, recalls[:-1], \"g-\", label = \"Recall\")\n",
    "plt.xlabel(\"Threshold\")\n",
    "plt.grid(True)\n",
    "plt.legend(loc = 'upper right')\n",
    "plt.show()"
   ]
  },
  {
   "cell_type": "markdown",
   "id": "2bc9a743",
   "metadata": {},
   "source": [
    "# ROC Curve\n"
   ]
  },
  {
   "cell_type": "code",
   "execution_count": 30,
   "id": "3685077d",
   "metadata": {},
   "outputs": [],
   "source": [
    "from sklearn.metrics import roc_curve"
   ]
  },
  {
   "cell_type": "code",
   "execution_count": 31,
   "id": "5d9dd7ba",
   "metadata": {},
   "outputs": [
    {
     "data": {
      "image/png": "[encoded data removed]",
      "text/plain": [
       "<Figure size 720x288 with 1 Axes>"
      ]
     },
     "metadata": {
      "needs_background": "light"
     },
     "output_type": "display_data"
    }
   ],
   "source": [
    "fpr, tpr, thresholds = roc_curve(y_train_0, y_scores)\n",
    "plt.figure(figsize = (10,4))\n",
    "plt.plot(fpr,tpr, linewidth = 2, label = 'Perceptron')\n",
    "plt.plot([0,1], [0,1], 'k--', label = 'baseEstimator')\n",
    "plt.xlabel('False Positive Rate')\n",
    "plt.ylabel(\"True Positive Rate\")\n",
    "plt.grid(True)\n",
    "plt.legend()\n",
    "plt.show()"
   ]
  },
  {
   "cell_type": "markdown",
   "id": "6f105d38",
   "metadata": {},
   "source": [
    "# Multi class label prediction"
   ]
  },
  {
   "cell_type": "code",
   "execution_count": 32,
   "id": "f000bb9b",
   "metadata": {},
   "outputs": [],
   "source": [
    "from sklearn.linear_model import Perceptron\n",
    "from sklearn.preprocessing import LabelBinarizer"
   ]
  },
  {
   "cell_type": "code",
   "execution_count": 33,
   "id": "21dc42f2",
   "metadata": {},
   "outputs": [
    {
     "name": "stdout",
     "output_type": "stream",
     "text": [
      "5: [0 0 0 0 0 1 0 0 0 0]\n",
      "0: [1 0 0 0 0 0 0 0 0 0]\n",
      "4: [0 0 0 0 1 0 0 0 0 0]\n",
      "1: [0 1 0 0 0 0 0 0 0 0]\n",
      "9: [0 0 0 0 0 0 0 0 0 1]\n",
      "2: [0 0 1 0 0 0 0 0 0 0]\n",
      "1: [0 1 0 0 0 0 0 0 0 0]\n",
      "3: [0 0 0 1 0 0 0 0 0 0]\n",
      "1: [0 1 0 0 0 0 0 0 0 0]\n",
      "4: [0 0 0 0 1 0 0 0 0 0]\n"
     ]
    }
   ],
   "source": [
    "clf = Perceptron(random_state=42)\n",
    "\n",
    "y_train_ovr = LabelBinarizer().fit_transform(y_train)\n",
    "for i in range(10):\n",
    "    print( \"{0}: {1}\".format(y_train[i], y_train_ovr[i]))"
   ]
  },
  {
   "cell_type": "code",
   "execution_count": 34,
   "id": "44ea75a5",
   "metadata": {},
   "outputs": [
    {
     "data": {
      "text/html": [
       "<style>#sk-container-id-1 {color: black;background-color: white;}#sk-container-id-1 pre{padding: 0;}#sk-container-id-1 div.sk-toggleable {background-color: white;}#sk-container-id-1 label.sk-toggleable__label {cursor: pointer;display: block;width: 100%;margin-bottom: 0;padding: 0.3em;box-sizing: border-box;text-align: center;}#sk-container-id-1 label.sk-toggleable__label-arrow:before {content: \"▸\";float: left;margin-right: 0.25em;color: #696969;}#sk-container-id-1 label.sk-toggleable__label-arrow:hover:before {color: black;}#sk-container-id-1 div.sk-estimator:hover label.sk-toggleable__label-arrow:before {color: black;}#sk-container-id-1 div.sk-toggleable__content {max-height: 0;max-width: 0;overflow: hidden;text-align: left;background-color: #f0f8ff;}#sk-container-id-1 div.sk-toggleable__content pre {margin: 0.2em;color: black;border-radius: 0.25em;background-color: #f0f8ff;}#sk-container-id-1 input.sk-toggleable__control:checked~div.sk-toggleable__content {max-height: 200px;max-width: 100%;overflow: auto;}#sk-container-id-1 input.sk-toggleable__control:checked~label.sk-toggleable__label-arrow:before {content: \"▾\";}#sk-container-id-1 div.sk-estimator input.sk-toggleable__control:checked~label.sk-toggleable__label {background-color: #d4ebff;}#sk-container-id-1 div.sk-label input.sk-toggleable__control:checked~label.sk-toggleable__label {background-color: #d4ebff;}#sk-container-id-1 input.sk-hidden--visually {border: 0;clip: rect(1px 1px 1px 1px);clip: rect(1px, 1px, 1px, 1px);height: 1px;margin: -1px;overflow: hidden;padding: 0;position: absolute;width: 1px;}#sk-container-id-1 div.sk-estimator {font-family: monospace;background-color: #f0f8ff;border: 1px dotted black;border-radius: 0.25em;box-sizing: border-box;margin-bottom: 0.5em;}#sk-container-id-1 div.sk-estimator:hover {background-color: #d4ebff;}#sk-container-id-1 div.sk-parallel-item::after {content: \"\";width: 100%;border-bottom: 1px solid gray;flex-grow: 1;}#sk-container-id-1 div.sk-label:hover label.sk-toggleable__label {background-color: #d4ebff;}#sk-container-id-1 div.sk-serial::before {content: \"\";position: absolute;border-left: 1px solid gray;box-sizing: border-box;top: 0;bottom: 0;left: 50%;z-index: 0;}#sk-container-id-1 div.sk-serial {display: flex;flex-direction: column;align-items: center;background-color: white;padding-right: 0.2em;padding-left: 0.2em;position: relative;}#sk-container-id-1 div.sk-item {position: relative;z-index: 1;}#sk-container-id-1 div.sk-parallel {display: flex;align-items: stretch;justify-content: center;background-color: white;position: relative;}#sk-container-id-1 div.sk-item::before, #sk-container-id-1 div.sk-parallel-item::before {content: \"\";position: absolute;border-left: 1px solid gray;box-sizing: border-box;top: 0;bottom: 0;left: 50%;z-index: -1;}#sk-container-id-1 div.sk-parallel-item {display: flex;flex-direction: column;z-index: 1;position: relative;background-color: white;}#sk-container-id-1 div.sk-parallel-item:first-child::after {align-self: flex-end;width: 50%;}#sk-container-id-1 div.sk-parallel-item:last-child::after {align-self: flex-start;width: 50%;}#sk-container-id-1 div.sk-parallel-item:only-child::after {width: 0;}#sk-container-id-1 div.sk-dashed-wrapped {border: 1px dashed gray;margin: 0 0.4em 0.5em 0.4em;box-sizing: border-box;padding-bottom: 0.4em;background-color: white;}#sk-container-id-1 div.sk-label label {font-family: monospace;font-weight: bold;display: inline-block;line-height: 1.2em;}#sk-container-id-1 div.sk-label-container {text-align: center;}#sk-container-id-1 div.sk-container {/* jupyter's `normalize.less` sets `[hidden] { display: none; }` but bootstrap.min.css set `[hidden] { display: none !important; }` so we also need the `!important` here to be able to override the default hidden behavior on the sphinx rendered scikit-learn.org. See: https://github.com/scikit-learn/scikit-learn/issues/21755 */display: inline-block !important;position: relative;}#sk-container-id-1 div.sk-text-repr-fallback {display: none;}</style><div id=\"sk-container-id-1\" class=\"sk-top-container\"><div class=\"sk-text-repr-fallback\"><pre>Perceptron(random_state=42)</pre><b>In a Jupyter environment, please rerun this cell to show the HTML representation or trust the notebook. <br />On GitHub, the HTML representation is unable to render, please try loading this page with nbviewer.org.</b></div><div class=\"sk-container\" hidden><div class=\"sk-item\"><div class=\"sk-estimator sk-toggleable\"><input class=\"sk-toggleable__control sk-hidden--visually\" id=\"sk-estimator-id-1\" type=\"checkbox\" checked><label for=\"sk-estimator-id-1\" class=\"sk-toggleable__label sk-toggleable__label-arrow\">Perceptron</label><div class=\"sk-toggleable__content\"><pre>Perceptron(random_state=42)</pre></div></div></div></div></div>"
      ],
      "text/plain": [
       "Perceptron(random_state=42)"
      ]
     },
     "execution_count": 34,
     "metadata": {},
     "output_type": "execute_result"
    }
   ],
   "source": [
    "clf.fit(X_train, y_train)"
   ]
  },
  {
   "cell_type": "code",
   "execution_count": 35,
   "id": "148722e2",
   "metadata": {},
   "outputs": [
    {
     "name": "stdout",
     "output_type": "stream",
     "text": [
      "Shape of Weight matrix: (10, 784) and bias vector: (10,)\n"
     ]
    }
   ],
   "source": [
    "print(\"Shape of Weight matrix: {0} and bias vector: {1}\".format(clf.coef_.shape,\n",
    "                                                               clf.intercept_.shape))"
   ]
  },
  {
   "cell_type": "markdown",
   "id": "a9a3ade9",
   "metadata": {},
   "source": [
    "# Importent"
   ]
  },
  {
   "cell_type": "code",
   "execution_count": 36,
   "id": "604d83c6",
   "metadata": {},
   "outputs": [
    {
     "name": "stdout",
     "output_type": "stream",
     "text": [
      "[[-654.27223376  151.90594387 -120.04027682  -62.80378316 -200.08838139\n",
      "  -132.59869281  -97.16593618 -188.9330719   -64.85310265 -173.42928105]]\n",
      "The predicted class:  1\n"
     ]
    }
   ],
   "source": [
    "scores = clf.decision_function(X_train[6].reshape(1,-1))\n",
    "print(scores)\n",
    "print('The predicted class: ', np.argmax(scores))"
   ]
  },
  {
   "cell_type": "code",
   "execution_count": 37,
   "id": "d4273e95",
   "metadata": {},
   "outputs": [
    {
     "name": "stdout",
     "output_type": "stream",
     "text": [
      "predicted output: \n",
      "['5']\n"
     ]
    }
   ],
   "source": [
    "print(\"predicted output: \")\n",
    "print(clf.predict(X_train[0].reshape(1,-1)))"
   ]
  },
  {
   "cell_type": "code",
   "execution_count": 38,
   "id": "709ade21",
   "metadata": {},
   "outputs": [],
   "source": [
    "y_hat = clf.predict(X_train)"
   ]
  },
  {
   "cell_type": "code",
   "execution_count": 39,
   "id": "af4a51c9",
   "metadata": {},
   "outputs": [
    {
     "name": "stdout",
     "output_type": "stream",
     "text": [
      "              precision    recall  f1-score   support\n",
      "\n",
      "           0       0.98      0.93      0.96      5923\n",
      "           1       0.95      0.96      0.95      6742\n",
      "           2       0.86      0.90      0.88      5958\n",
      "           3       0.97      0.67      0.80      6131\n",
      "           4       0.93      0.91      0.92      5842\n",
      "           5       0.78      0.87      0.82      5421\n",
      "           6       0.89      0.97      0.93      5918\n",
      "           7       0.96      0.86      0.91      6265\n",
      "           8       0.75      0.90      0.82      5851\n",
      "           9       0.84      0.87      0.85      5949\n",
      "\n",
      "    accuracy                           0.89     60000\n",
      "   macro avg       0.89      0.88      0.88     60000\n",
      "weighted avg       0.89      0.89      0.88     60000\n",
      "\n"
     ]
    }
   ],
   "source": [
    "print(classification_report(y_train, y_hat))"
   ]
  },
  {
   "cell_type": "code",
   "execution_count": 40,
   "id": "0d0268dd",
   "metadata": {},
   "outputs": [
    {
     "data": {
      "image/png": "[encoded data removed]",
      "text/plain": [
       "<Figure size 432x288 with 2 Axes>"
      ]
     },
     "metadata": {
      "needs_background": "light"
     },
     "output_type": "display_data"
    }
   ],
   "source": [
    "cm_display = ConfusionMatrixDisplay.from_predictions(y_train, y_hat, values_format = '.5g')"
   ]
  },
  {
   "cell_type": "markdown",
   "id": "816f7ccb",
   "metadata": {},
   "source": [
    "# Making a Pipeline"
   ]
  },
  {
   "cell_type": "code",
   "execution_count": 41,
   "id": "1c83eace",
   "metadata": {},
   "outputs": [],
   "source": [
    "estimators = [('std_scaler', MinMaxScaler()), ('bin_clf', Perceptron())]\n",
    "pipe = Pipeline(estimators)"
   ]
  },
  {
   "cell_type": "code",
   "execution_count": 42,
   "id": "2f13ddcc",
   "metadata": {},
   "outputs": [
    {
     "data": {
      "text/html": [
       "<style>#sk-container-id-2 {color: black;background-color: white;}#sk-container-id-2 pre{padding: 0;}#sk-container-id-2 div.sk-toggleable {background-color: white;}#sk-container-id-2 label.sk-toggleable__label {cursor: pointer;display: block;width: 100%;margin-bottom: 0;padding: 0.3em;box-sizing: border-box;text-align: center;}#sk-container-id-2 label.sk-toggleable__label-arrow:before {content: \"▸\";float: left;margin-right: 0.25em;color: #696969;}#sk-container-id-2 label.sk-toggleable__label-arrow:hover:before {color: black;}#sk-container-id-2 div.sk-estimator:hover label.sk-toggleable__label-arrow:before {color: black;}#sk-container-id-2 div.sk-toggleable__content {max-height: 0;max-width: 0;overflow: hidden;text-align: left;background-color: #f0f8ff;}#sk-container-id-2 div.sk-toggleable__content pre {margin: 0.2em;color: black;border-radius: 0.25em;background-color: #f0f8ff;}#sk-container-id-2 input.sk-toggleable__control:checked~div.sk-toggleable__content {max-height: 200px;max-width: 100%;overflow: auto;}#sk-container-id-2 input.sk-toggleable__control:checked~label.sk-toggleable__label-arrow:before {content: \"▾\";}#sk-container-id-2 div.sk-estimator input.sk-toggleable__control:checked~label.sk-toggleable__label {background-color: #d4ebff;}#sk-container-id-2 div.sk-label input.sk-toggleable__control:checked~label.sk-toggleable__label {background-color: #d4ebff;}#sk-container-id-2 input.sk-hidden--visually {border: 0;clip: rect(1px 1px 1px 1px);clip: rect(1px, 1px, 1px, 1px);height: 1px;margin: -1px;overflow: hidden;padding: 0;position: absolute;width: 1px;}#sk-container-id-2 div.sk-estimator {font-family: monospace;background-color: #f0f8ff;border: 1px dotted black;border-radius: 0.25em;box-sizing: border-box;margin-bottom: 0.5em;}#sk-container-id-2 div.sk-estimator:hover {background-color: #d4ebff;}#sk-container-id-2 div.sk-parallel-item::after {content: \"\";width: 100%;border-bottom: 1px solid gray;flex-grow: 1;}#sk-container-id-2 div.sk-label:hover label.sk-toggleable__label {background-color: #d4ebff;}#sk-container-id-2 div.sk-serial::before {content: \"\";position: absolute;border-left: 1px solid gray;box-sizing: border-box;top: 0;bottom: 0;left: 50%;z-index: 0;}#sk-container-id-2 div.sk-serial {display: flex;flex-direction: column;align-items: center;background-color: white;padding-right: 0.2em;padding-left: 0.2em;position: relative;}#sk-container-id-2 div.sk-item {position: relative;z-index: 1;}#sk-container-id-2 div.sk-parallel {display: flex;align-items: stretch;justify-content: center;background-color: white;position: relative;}#sk-container-id-2 div.sk-item::before, #sk-container-id-2 div.sk-parallel-item::before {content: \"\";position: absolute;border-left: 1px solid gray;box-sizing: border-box;top: 0;bottom: 0;left: 50%;z-index: -1;}#sk-container-id-2 div.sk-parallel-item {display: flex;flex-direction: column;z-index: 1;position: relative;background-color: white;}#sk-container-id-2 div.sk-parallel-item:first-child::after {align-self: flex-end;width: 50%;}#sk-container-id-2 div.sk-parallel-item:last-child::after {align-self: flex-start;width: 50%;}#sk-container-id-2 div.sk-parallel-item:only-child::after {width: 0;}#sk-container-id-2 div.sk-dashed-wrapped {border: 1px dashed gray;margin: 0 0.4em 0.5em 0.4em;box-sizing: border-box;padding-bottom: 0.4em;background-color: white;}#sk-container-id-2 div.sk-label label {font-family: monospace;font-weight: bold;display: inline-block;line-height: 1.2em;}#sk-container-id-2 div.sk-label-container {text-align: center;}#sk-container-id-2 div.sk-container {/* jupyter's `normalize.less` sets `[hidden] { display: none; }` but bootstrap.min.css set `[hidden] { display: none !important; }` so we also need the `!important` here to be able to override the default hidden behavior on the sphinx rendered scikit-learn.org. See: https://github.com/scikit-learn/scikit-learn/issues/21755 */display: inline-block !important;position: relative;}#sk-container-id-2 div.sk-text-repr-fallback {display: none;}</style><div id=\"sk-container-id-2\" class=\"sk-top-container\"><div class=\"sk-text-repr-fallback\"><pre>Pipeline(steps=[(&#x27;std_scaler&#x27;, MinMaxScaler()), (&#x27;bin_clf&#x27;, Perceptron())])</pre><b>In a Jupyter environment, please rerun this cell to show the HTML representation or trust the notebook. <br />On GitHub, the HTML representation is unable to render, please try loading this page with nbviewer.org.</b></div><div class=\"sk-container\" hidden><div class=\"sk-item sk-dashed-wrapped\"><div class=\"sk-label-container\"><div class=\"sk-label sk-toggleable\"><input class=\"sk-toggleable__control sk-hidden--visually\" id=\"sk-estimator-id-2\" type=\"checkbox\" ><label for=\"sk-estimator-id-2\" class=\"sk-toggleable__label sk-toggleable__label-arrow\">Pipeline</label><div class=\"sk-toggleable__content\"><pre>Pipeline(steps=[(&#x27;std_scaler&#x27;, MinMaxScaler()), (&#x27;bin_clf&#x27;, Perceptron())])</pre></div></div></div><div class=\"sk-serial\"><div class=\"sk-item\"><div class=\"sk-estimator sk-toggleable\"><input class=\"sk-toggleable__control sk-hidden--visually\" id=\"sk-estimator-id-3\" type=\"checkbox\" ><label for=\"sk-estimator-id-3\" class=\"sk-toggleable__label sk-toggleable__label-arrow\">MinMaxScaler</label><div class=\"sk-toggleable__content\"><pre>MinMaxScaler()</pre></div></div></div><div class=\"sk-item\"><div class=\"sk-estimator sk-toggleable\"><input class=\"sk-toggleable__control sk-hidden--visually\" id=\"sk-estimator-id-4\" type=\"checkbox\" ><label for=\"sk-estimator-id-4\" class=\"sk-toggleable__label sk-toggleable__label-arrow\">Perceptron</label><div class=\"sk-toggleable__content\"><pre>Perceptron()</pre></div></div></div></div></div></div></div>"
      ],
      "text/plain": [
       "Pipeline(steps=[('std_scaler', MinMaxScaler()), ('bin_clf', Perceptron())])"
      ]
     },
     "execution_count": 42,
     "metadata": {},
     "output_type": "execute_result"
    }
   ],
   "source": [
    "pipe.fit(X_train, y_train_0)"
   ]
  },
  {
   "cell_type": "code",
   "execution_count": 43,
   "id": "63ee966b",
   "metadata": {},
   "outputs": [
    {
     "data": {
      "image/png": "[encoded data removed]",
      "text/plain": [
       "<Figure size 432x288 with 2 Axes>"
      ]
     },
     "metadata": {
      "needs_background": "light"
     },
     "output_type": "display_data"
    }
   ],
   "source": [
    "y_hat_train_0 = pipe.predict(X_train)\n",
    "cm_display = ConfusionMatrixDisplay.from_predictions(y_train_0, y_hat_train_0,\n",
    "                                                    values_format = \"0.5g\")"
   ]
  },
  {
   "cell_type": "markdown",
   "id": "cdece113",
   "metadata": {},
   "source": [
    "# Iteration vs Loss Curve"
   ]
  },
  {
   "cell_type": "code",
   "execution_count": 44,
   "id": "44ad6424",
   "metadata": {},
   "outputs": [],
   "source": [
    "iterations = 100\n",
    "bin_clf1 = Perceptron(max_iter = 1000, random_state=42)\n",
    "Loss_clf1 = []\n",
    "for i in range(iterations):\n",
    "    bin_clf1.partial_fit(X_train, y_train_0, classes = np.array([1,-1]))\n",
    "    y_hat_0 = bin_clf1.decision_function(X_train)\n",
    "    Loss_clf1.append(hinge_loss(y_train_0, y_hat_0))"
   ]
  },
  {
   "cell_type": "code",
   "execution_count": 45,
   "id": "c6c6b9b4",
   "metadata": {},
   "outputs": [
    {
     "data": {
      "image/png": "[encoded data removed]",
      "text/plain": [
       "<Figure size 432x288 with 1 Axes>"
      ]
     },
     "metadata": {
      "needs_background": "light"
     },
     "output_type": "display_data"
    }
   ],
   "source": [
    "plt.figure()\n",
    "plt.plot(np.arange(iterations), Loss_clf1)\n",
    "plt.grid(True)\n",
    "plt.xlabel('Iterations')\n",
    "plt.ylabel('Training Loss')\n",
    "plt.show()"
   ]
  },
  {
   "cell_type": "markdown",
   "id": "9e7b7137",
   "metadata": {},
   "source": [
    "# Ridge classifier"
   ]
  },
  {
   "cell_type": "code",
   "execution_count": 52,
   "id": "a9256dfc",
   "metadata": {},
   "outputs": [],
   "source": [
    "from sklearn.linear_model import RidgeClassifier"
   ]
  },
  {
   "cell_type": "code",
   "execution_count": 57,
   "id": "bae0f8d5",
   "metadata": {},
   "outputs": [],
   "source": [
    "from sklearn.pipeline import make_pipeline"
   ]
  },
  {
   "cell_type": "code",
   "execution_count": 59,
   "id": "ac19137f",
   "metadata": {},
   "outputs": [
    {
     "data": {
      "text/html": [
       "<style>#sk-container-id-3 {color: black;background-color: white;}#sk-container-id-3 pre{padding: 0;}#sk-container-id-3 div.sk-toggleable {background-color: white;}#sk-container-id-3 label.sk-toggleable__label {cursor: pointer;display: block;width: 100%;margin-bottom: 0;padding: 0.3em;box-sizing: border-box;text-align: center;}#sk-container-id-3 label.sk-toggleable__label-arrow:before {content: \"▸\";float: left;margin-right: 0.25em;color: #696969;}#sk-container-id-3 label.sk-toggleable__label-arrow:hover:before {color: black;}#sk-container-id-3 div.sk-estimator:hover label.sk-toggleable__label-arrow:before {color: black;}#sk-container-id-3 div.sk-toggleable__content {max-height: 0;max-width: 0;overflow: hidden;text-align: left;background-color: #f0f8ff;}#sk-container-id-3 div.sk-toggleable__content pre {margin: 0.2em;color: black;border-radius: 0.25em;background-color: #f0f8ff;}#sk-container-id-3 input.sk-toggleable__control:checked~div.sk-toggleable__content {max-height: 200px;max-width: 100%;overflow: auto;}#sk-container-id-3 input.sk-toggleable__control:checked~label.sk-toggleable__label-arrow:before {content: \"▾\";}#sk-container-id-3 div.sk-estimator input.sk-toggleable__control:checked~label.sk-toggleable__label {background-color: #d4ebff;}#sk-container-id-3 div.sk-label input.sk-toggleable__control:checked~label.sk-toggleable__label {background-color: #d4ebff;}#sk-container-id-3 input.sk-hidden--visually {border: 0;clip: rect(1px 1px 1px 1px);clip: rect(1px, 1px, 1px, 1px);height: 1px;margin: -1px;overflow: hidden;padding: 0;position: absolute;width: 1px;}#sk-container-id-3 div.sk-estimator {font-family: monospace;background-color: #f0f8ff;border: 1px dotted black;border-radius: 0.25em;box-sizing: border-box;margin-bottom: 0.5em;}#sk-container-id-3 div.sk-estimator:hover {background-color: #d4ebff;}#sk-container-id-3 div.sk-parallel-item::after {content: \"\";width: 100%;border-bottom: 1px solid gray;flex-grow: 1;}#sk-container-id-3 div.sk-label:hover label.sk-toggleable__label {background-color: #d4ebff;}#sk-container-id-3 div.sk-serial::before {content: \"\";position: absolute;border-left: 1px solid gray;box-sizing: border-box;top: 0;bottom: 0;left: 50%;z-index: 0;}#sk-container-id-3 div.sk-serial {display: flex;flex-direction: column;align-items: center;background-color: white;padding-right: 0.2em;padding-left: 0.2em;position: relative;}#sk-container-id-3 div.sk-item {position: relative;z-index: 1;}#sk-container-id-3 div.sk-parallel {display: flex;align-items: stretch;justify-content: center;background-color: white;position: relative;}#sk-container-id-3 div.sk-item::before, #sk-container-id-3 div.sk-parallel-item::before {content: \"\";position: absolute;border-left: 1px solid gray;box-sizing: border-box;top: 0;bottom: 0;left: 50%;z-index: -1;}#sk-container-id-3 div.sk-parallel-item {display: flex;flex-direction: column;z-index: 1;position: relative;background-color: white;}#sk-container-id-3 div.sk-parallel-item:first-child::after {align-self: flex-end;width: 50%;}#sk-container-id-3 div.sk-parallel-item:last-child::after {align-self: flex-start;width: 50%;}#sk-container-id-3 div.sk-parallel-item:only-child::after {width: 0;}#sk-container-id-3 div.sk-dashed-wrapped {border: 1px dashed gray;margin: 0 0.4em 0.5em 0.4em;box-sizing: border-box;padding-bottom: 0.4em;background-color: white;}#sk-container-id-3 div.sk-label label {font-family: monospace;font-weight: bold;display: inline-block;line-height: 1.2em;}#sk-container-id-3 div.sk-label-container {text-align: center;}#sk-container-id-3 div.sk-container {/* jupyter's `normalize.less` sets `[hidden] { display: none; }` but bootstrap.min.css set `[hidden] { display: none !important; }` so we also need the `!important` here to be able to override the default hidden behavior on the sphinx rendered scikit-learn.org. See: https://github.com/scikit-learn/scikit-learn/issues/21755 */display: inline-block !important;position: relative;}#sk-container-id-3 div.sk-text-repr-fallback {display: none;}</style><div id=\"sk-container-id-3\" class=\"sk-top-container\"><div class=\"sk-text-repr-fallback\"><pre>Pipeline(steps=[(&#x27;minmaxscaler&#x27;, MinMaxScaler()),\n",
       "                (&#x27;ridgeclassifier&#x27;, RidgeClassifier(alpha=0, normalize=False))])</pre><b>In a Jupyter environment, please rerun this cell to show the HTML representation or trust the notebook. <br />On GitHub, the HTML representation is unable to render, please try loading this page with nbviewer.org.</b></div><div class=\"sk-container\" hidden><div class=\"sk-item sk-dashed-wrapped\"><div class=\"sk-label-container\"><div class=\"sk-label sk-toggleable\"><input class=\"sk-toggleable__control sk-hidden--visually\" id=\"sk-estimator-id-5\" type=\"checkbox\" ><label for=\"sk-estimator-id-5\" class=\"sk-toggleable__label sk-toggleable__label-arrow\">Pipeline</label><div class=\"sk-toggleable__content\"><pre>Pipeline(steps=[(&#x27;minmaxscaler&#x27;, MinMaxScaler()),\n",
       "                (&#x27;ridgeclassifier&#x27;, RidgeClassifier(alpha=0, normalize=False))])</pre></div></div></div><div class=\"sk-serial\"><div class=\"sk-item\"><div class=\"sk-estimator sk-toggleable\"><input class=\"sk-toggleable__control sk-hidden--visually\" id=\"sk-estimator-id-6\" type=\"checkbox\" ><label for=\"sk-estimator-id-6\" class=\"sk-toggleable__label sk-toggleable__label-arrow\">MinMaxScaler</label><div class=\"sk-toggleable__content\"><pre>MinMaxScaler()</pre></div></div></div><div class=\"sk-item\"><div class=\"sk-estimator sk-toggleable\"><input class=\"sk-toggleable__control sk-hidden--visually\" id=\"sk-estimator-id-7\" type=\"checkbox\" ><label for=\"sk-estimator-id-7\" class=\"sk-toggleable__label sk-toggleable__label-arrow\">RidgeClassifier</label><div class=\"sk-toggleable__content\"><pre>RidgeClassifier(alpha=0, normalize=False)</pre></div></div></div></div></div></div></div>"
      ],
      "text/plain": [
       "Pipeline(steps=[('minmaxscaler', MinMaxScaler()),\n",
       "                ('ridgeclassifier', RidgeClassifier(alpha=0, normalize=False))])"
      ]
     },
     "execution_count": 59,
     "metadata": {},
     "output_type": "execute_result"
    }
   ],
   "source": [
    "estimator = RidgeClassifier(normalize = False, alpha=0)\n",
    "pipe_ridge = make_pipeline(MinMaxScaler(), estimator)\n",
    "pipe_ridge.fit(X_train, y_train_0)"
   ]
  },
  {
   "cell_type": "code",
   "execution_count": 60,
   "id": "c0a24902",
   "metadata": {},
   "outputs": [
    {
     "name": "stdout",
     "output_type": "stream",
     "text": [
      "              precision    recall  f1-score   support\n",
      "\n",
      "          -1       0.99      1.00      0.99      9020\n",
      "           1       0.96      0.88      0.92       980\n",
      "\n",
      "    accuracy                           0.98     10000\n",
      "   macro avg       0.97      0.94      0.96     10000\n",
      "weighted avg       0.98      0.98      0.98     10000\n",
      "\n"
     ]
    }
   ],
   "source": [
    "y_hat_0 = pipe_ridge.predict(X_test)\n",
    "print(classification_report(y_test_0, y_hat_0))"
   ]
  },
  {
   "cell_type": "markdown",
   "id": "fce71f1a",
   "metadata": {},
   "source": [
    "### Cross validation"
   ]
  },
  {
   "cell_type": "code",
   "execution_count": 61,
   "id": "56e05970",
   "metadata": {},
   "outputs": [],
   "source": [
    "cv_bin_ridge_clf = cross_validate(\n",
    "            pipe_ridge, X_train, y_train_0, cv=5,\n",
    "            scoring = ['precision', 'recall', 'f1'],\n",
    "            return_train_score = True,\n",
    "            return_estimator = True\n",
    ")"
   ]
  },
  {
   "cell_type": "code",
   "execution_count": 62,
   "id": "f98a28b9",
   "metadata": {},
   "outputs": [
    {
     "name": "stdout",
     "output_type": "stream",
     "text": [
      "{'estimator': [Pipeline(steps=[('minmaxscaler', MinMaxScaler()),\n",
      "                ('ridgeclassifier', RidgeClassifier(alpha=0, normalize=False))]),\n",
      "               Pipeline(steps=[('minmaxscaler', MinMaxScaler()),\n",
      "                ('ridgeclassifier', RidgeClassifier(alpha=0, normalize=False))]),\n",
      "               Pipeline(steps=[('minmaxscaler', MinMaxScaler()),\n",
      "                ('ridgeclassifier', RidgeClassifier(alpha=0, normalize=False))]),\n",
      "               Pipeline(steps=[('minmaxscaler', MinMaxScaler()),\n",
      "                ('ridgeclassifier', RidgeClassifier(alpha=0, normalize=False))]),\n",
      "               Pipeline(steps=[('minmaxscaler', MinMaxScaler()),\n",
      "                ('ridgeclassifier', RidgeClassifier(alpha=0, normalize=False))])],\n",
      " 'fit_time': array([ 8.52266932, 10.80370212, 10.5983634 , 11.81568217, 14.25308824]),\n",
      " 'score_time': array([0.0860064 , 0.1230092 , 0.08800697, 0.15101337, 0.0880065 ]),\n",
      " 'test_f1': array([0.91519435, 0.9047619 , 0.9132948 , 0.90222222, 0.9065713 ]),\n",
      " 'test_precision': array([0.95925926, 0.94649446, 0.96522556, 0.95305164, 0.96387833]),\n",
      " 'test_recall': array([0.875     , 0.86655405, 0.86666667, 0.85654008, 0.8556962 ]),\n",
      " 'train_f1': array([0.91469933, 0.91831299, 0.91203033, 0.91854305, 0.91538633]),\n",
      " 'train_precision': array([0.96840368, 0.96862561, 0.96667455, 0.96274873, 0.96866164]),\n",
      " 'train_recall': array([0.86663853, 0.87296898, 0.86323343, 0.87821866, 0.86766568])}\n"
     ]
    }
   ],
   "source": [
    "pprint(cv_bin_ridge_clf)"
   ]
  },
  {
   "cell_type": "code",
   "execution_count": 63,
   "id": "c8a26689",
   "metadata": {},
   "outputs": [
    {
     "data": {
      "text/plain": [
       "3"
      ]
     },
     "execution_count": 63,
     "metadata": {},
     "output_type": "execute_result"
    }
   ],
   "source": [
    "best_estimator_id = np.argmax(cv_bin_ridge_clf['train_f1']); best_estimator_id"
   ]
  },
  {
   "cell_type": "code",
   "execution_count": 68,
   "id": "27706926",
   "metadata": {},
   "outputs": [
    {
     "data": {
      "text/plain": [
       "<matplotlib.image.AxesImage at 0x210808b1d00>"
      ]
     },
     "execution_count": 68,
     "metadata": {},
     "output_type": "execute_result"
    },
    {
     "data": {
      "image/png": "[encoded data removed]",
      "text/plain": [
       "<Figure size 432x288 with 1 Axes>"
      ]
     },
     "metadata": {
      "needs_background": "light"
     },
     "output_type": "display_data"
    }
   ],
   "source": [
    "plt.imshow((pipe_ridge[1].coef_).reshape(28,28), cmap='gray')"
   ]
  },
  {
   "cell_type": "code",
   "execution_count": null,
   "id": "fa0539ae",
   "metadata": {},
   "outputs": [],
   "source": []
  },
  {
   "cell_type": "markdown",
   "id": "3bba8645",
   "metadata": {},
   "source": [
    "# Naive Bayes classifier"
   ]
  },
  {
   "cell_type": "code",
   "execution_count": 69,
   "id": "a0b15994",
   "metadata": {},
   "outputs": [],
   "source": [
    "from sklearn.datasets import fetch_20newsgroups\n",
    "\n",
    "from sklearn.feature_extraction.text import TfidfVectorizer\n",
    "\n",
    "from sklearn.naive_bayes import MultinomialNB\n",
    "\n",
    "from sklearn.pipeline import make_pipeline\n",
    "\n",
    "from sklearn.metrics import ConfusionMatrixDisplay\n"
   ]
  },
  {
   "cell_type": "code",
   "execution_count": 72,
   "id": "e6e81854",
   "metadata": {},
   "outputs": [],
   "source": [
    "data = fetch_20newsgroups()"
   ]
  },
  {
   "cell_type": "code",
   "execution_count": 73,
   "id": "30b691fe",
   "metadata": {},
   "outputs": [
    {
     "data": {
      "text/plain": [
       "['alt.atheism',\n",
       " 'comp.graphics',\n",
       " 'comp.os.ms-windows.misc',\n",
       " 'comp.sys.ibm.pc.hardware',\n",
       " 'comp.sys.mac.hardware',\n",
       " 'comp.windows.x',\n",
       " 'misc.forsale',\n",
       " 'rec.autos',\n",
       " 'rec.motorcycles',\n",
       " 'rec.sport.baseball',\n",
       " 'rec.sport.hockey',\n",
       " 'sci.crypt',\n",
       " 'sci.electronics',\n",
       " 'sci.med',\n",
       " 'sci.space',\n",
       " 'soc.religion.christian',\n",
       " 'talk.politics.guns',\n",
       " 'talk.politics.mideast',\n",
       " 'talk.politics.misc',\n",
       " 'talk.religion.misc']"
      ]
     },
     "execution_count": 73,
     "metadata": {},
     "output_type": "execute_result"
    }
   ],
   "source": [
    "data.target_names"
   ]
  },
  {
   "cell_type": "code",
   "execution_count": 75,
   "id": "32af1a65",
   "metadata": {},
   "outputs": [],
   "source": [
    "categories = ['talk.religion.misc', 'soc.religion.christian', 'sci.space', 'comp.graphics']\n",
    "\n",
    "train = fetch_20newsgroups(subset='train', categories = categories)\n",
    "test = fetch_20newsgroups(subset='test', categories = categories)"
   ]
  },
  {
   "cell_type": "code",
   "execution_count": 76,
   "id": "4c236be3",
   "metadata": {},
   "outputs": [
    {
     "name": "stdout",
     "output_type": "stream",
     "text": [
      "From: dmcgee@uluhe.soest.hawaii.edu (Don McGee)\n",
      "Subject: Federal Hearing\n",
      "Originator: dmcgee@uluhe\n",
      "Organization: School of Ocean and Earth Science and Technology\n",
      "Distribution: usa\n",
      "Lines: 10\n",
      "\n",
      "\n",
      "Fact or rumor....?  Madalyn Murray O'Hare an atheist who eliminated the\n",
      "use of the bible reading and prayer in public schools 15 years ago is now\n",
      "going to appear before the FCC with a petition to stop the reading of the\n",
      "Gospel on the airways of America.  And she is also campaigning to remove\n",
      "Christmas programs, songs, etc from the public schools.  If it is true\n",
      "then mail to Federal Communications Commission 1919 H Street Washington DC\n",
      "20054 expressing your opposition to her request.  Reference Petition number\n",
      "\n",
      "2493.\n",
      "\n"
     ]
    }
   ],
   "source": [
    "print(train.data[5])"
   ]
  },
  {
   "cell_type": "code",
   "execution_count": 77,
   "id": "6530ea36",
   "metadata": {},
   "outputs": [],
   "source": [
    "model = make_pipeline(TfidfVectorizer(), MultinomialNB())"
   ]
  },
  {
   "cell_type": "code",
   "execution_count": 78,
   "id": "4430c647",
   "metadata": {},
   "outputs": [
    {
     "data": {
      "text/html": [
       "<style>#sk-container-id-5 {color: black;background-color: white;}#sk-container-id-5 pre{padding: 0;}#sk-container-id-5 div.sk-toggleable {background-color: white;}#sk-container-id-5 label.sk-toggleable__label {cursor: pointer;display: block;width: 100%;margin-bottom: 0;padding: 0.3em;box-sizing: border-box;text-align: center;}#sk-container-id-5 label.sk-toggleable__label-arrow:before {content: \"▸\";float: left;margin-right: 0.25em;color: #696969;}#sk-container-id-5 label.sk-toggleable__label-arrow:hover:before {color: black;}#sk-container-id-5 div.sk-estimator:hover label.sk-toggleable__label-arrow:before {color: black;}#sk-container-id-5 div.sk-toggleable__content {max-height: 0;max-width: 0;overflow: hidden;text-align: left;background-color: #f0f8ff;}#sk-container-id-5 div.sk-toggleable__content pre {margin: 0.2em;color: black;border-radius: 0.25em;background-color: #f0f8ff;}#sk-container-id-5 input.sk-toggleable__control:checked~div.sk-toggleable__content {max-height: 200px;max-width: 100%;overflow: auto;}#sk-container-id-5 input.sk-toggleable__control:checked~label.sk-toggleable__label-arrow:before {content: \"▾\";}#sk-container-id-5 div.sk-estimator input.sk-toggleable__control:checked~label.sk-toggleable__label {background-color: #d4ebff;}#sk-container-id-5 div.sk-label input.sk-toggleable__control:checked~label.sk-toggleable__label {background-color: #d4ebff;}#sk-container-id-5 input.sk-hidden--visually {border: 0;clip: rect(1px 1px 1px 1px);clip: rect(1px, 1px, 1px, 1px);height: 1px;margin: -1px;overflow: hidden;padding: 0;position: absolute;width: 1px;}#sk-container-id-5 div.sk-estimator {font-family: monospace;background-color: #f0f8ff;border: 1px dotted black;border-radius: 0.25em;box-sizing: border-box;margin-bottom: 0.5em;}#sk-container-id-5 div.sk-estimator:hover {background-color: #d4ebff;}#sk-container-id-5 div.sk-parallel-item::after {content: \"\";width: 100%;border-bottom: 1px solid gray;flex-grow: 1;}#sk-container-id-5 div.sk-label:hover label.sk-toggleable__label {background-color: #d4ebff;}#sk-container-id-5 div.sk-serial::before {content: \"\";position: absolute;border-left: 1px solid gray;box-sizing: border-box;top: 0;bottom: 0;left: 50%;z-index: 0;}#sk-container-id-5 div.sk-serial {display: flex;flex-direction: column;align-items: center;background-color: white;padding-right: 0.2em;padding-left: 0.2em;position: relative;}#sk-container-id-5 div.sk-item {position: relative;z-index: 1;}#sk-container-id-5 div.sk-parallel {display: flex;align-items: stretch;justify-content: center;background-color: white;position: relative;}#sk-container-id-5 div.sk-item::before, #sk-container-id-5 div.sk-parallel-item::before {content: \"\";position: absolute;border-left: 1px solid gray;box-sizing: border-box;top: 0;bottom: 0;left: 50%;z-index: -1;}#sk-container-id-5 div.sk-parallel-item {display: flex;flex-direction: column;z-index: 1;position: relative;background-color: white;}#sk-container-id-5 div.sk-parallel-item:first-child::after {align-self: flex-end;width: 50%;}#sk-container-id-5 div.sk-parallel-item:last-child::after {align-self: flex-start;width: 50%;}#sk-container-id-5 div.sk-parallel-item:only-child::after {width: 0;}#sk-container-id-5 div.sk-dashed-wrapped {border: 1px dashed gray;margin: 0 0.4em 0.5em 0.4em;box-sizing: border-box;padding-bottom: 0.4em;background-color: white;}#sk-container-id-5 div.sk-label label {font-family: monospace;font-weight: bold;display: inline-block;line-height: 1.2em;}#sk-container-id-5 div.sk-label-container {text-align: center;}#sk-container-id-5 div.sk-container {/* jupyter's `normalize.less` sets `[hidden] { display: none; }` but bootstrap.min.css set `[hidden] { display: none !important; }` so we also need the `!important` here to be able to override the default hidden behavior on the sphinx rendered scikit-learn.org. See: https://github.com/scikit-learn/scikit-learn/issues/21755 */display: inline-block !important;position: relative;}#sk-container-id-5 div.sk-text-repr-fallback {display: none;}</style><div id=\"sk-container-id-5\" class=\"sk-top-container\"><div class=\"sk-text-repr-fallback\"><pre>Pipeline(steps=[(&#x27;tfidfvectorizer&#x27;, TfidfVectorizer()),\n",
       "                (&#x27;multinomialnb&#x27;, MultinomialNB())])</pre><b>In a Jupyter environment, please rerun this cell to show the HTML representation or trust the notebook. <br />On GitHub, the HTML representation is unable to render, please try loading this page with nbviewer.org.</b></div><div class=\"sk-container\" hidden><div class=\"sk-item sk-dashed-wrapped\"><div class=\"sk-label-container\"><div class=\"sk-label sk-toggleable\"><input class=\"sk-toggleable__control sk-hidden--visually\" id=\"sk-estimator-id-11\" type=\"checkbox\" ><label for=\"sk-estimator-id-11\" class=\"sk-toggleable__label sk-toggleable__label-arrow\">Pipeline</label><div class=\"sk-toggleable__content\"><pre>Pipeline(steps=[(&#x27;tfidfvectorizer&#x27;, TfidfVectorizer()),\n",
       "                (&#x27;multinomialnb&#x27;, MultinomialNB())])</pre></div></div></div><div class=\"sk-serial\"><div class=\"sk-item\"><div class=\"sk-estimator sk-toggleable\"><input class=\"sk-toggleable__control sk-hidden--visually\" id=\"sk-estimator-id-12\" type=\"checkbox\" ><label for=\"sk-estimator-id-12\" class=\"sk-toggleable__label sk-toggleable__label-arrow\">TfidfVectorizer</label><div class=\"sk-toggleable__content\"><pre>TfidfVectorizer()</pre></div></div></div><div class=\"sk-item\"><div class=\"sk-estimator sk-toggleable\"><input class=\"sk-toggleable__control sk-hidden--visually\" id=\"sk-estimator-id-13\" type=\"checkbox\" ><label for=\"sk-estimator-id-13\" class=\"sk-toggleable__label sk-toggleable__label-arrow\">MultinomialNB</label><div class=\"sk-toggleable__content\"><pre>MultinomialNB()</pre></div></div></div></div></div></div></div>"
      ],
      "text/plain": [
       "Pipeline(steps=[('tfidfvectorizer', TfidfVectorizer()),\n",
       "                ('multinomialnb', MultinomialNB())])"
      ]
     },
     "execution_count": 78,
     "metadata": {},
     "output_type": "execute_result"
    }
   ],
   "source": [
    "model.fit(train.data, train.target)"
   ]
  },
  {
   "cell_type": "markdown",
   "id": "43763111",
   "metadata": {},
   "source": [
    "### Model evaluation"
   ]
  },
  {
   "cell_type": "code",
   "execution_count": 79,
   "id": "3b378a91",
   "metadata": {},
   "outputs": [
    {
     "data": {
      "text/plain": [
       "<sklearn.metrics._plot.confusion_matrix.ConfusionMatrixDisplay at 0x210871e41c0>"
      ]
     },
     "execution_count": 79,
     "metadata": {},
     "output_type": "execute_result"
    },
    {
     "data": {
      "image/png": "[encoded data removed]",
      "text/plain": [
       "<Figure size 432x288 with 2 Axes>"
      ]
     },
     "metadata": {
      "needs_background": "light"
     },
     "output_type": "display_data"
    }
   ],
   "source": [
    "ConfusionMatrixDisplay.from_estimator(\n",
    "    model, test.data, test.target, display_labels = test.target_names,\n",
    "    xticks_rotation = 'vertical'\n",
    ")"
   ]
  },
  {
   "cell_type": "code",
   "execution_count": 81,
   "id": "73527972",
   "metadata": {},
   "outputs": [
    {
     "data": {
      "text/plain": [
       "array([0, 1, 2, 3], dtype=int64)"
      ]
     },
     "execution_count": 81,
     "metadata": {},
     "output_type": "execute_result"
    }
   ],
   "source": [
    "np.unique(train.target)"
   ]
  },
  {
   "cell_type": "code",
   "execution_count": 87,
   "id": "30507f2e",
   "metadata": {},
   "outputs": [
    {
     "data": {
      "text/plain": [
       "array([0, 1, 2, 3], dtype=int64)"
      ]
     },
     "execution_count": 87,
     "metadata": {},
     "output_type": "execute_result"
    }
   ],
   "source": [
    "model.classes_"
   ]
  },
  {
   "cell_type": "code",
   "execution_count": 91,
   "id": "6e972913",
   "metadata": {},
   "outputs": [
    {
     "data": {
      "text/plain": [
       "array([ 0,  1,  2,  3,  4,  5,  6,  7,  8,  9, 10, 11, 12, 13, 14, 15, 16,\n",
       "       17, 18, 19])"
      ]
     },
     "execution_count": 91,
     "metadata": {},
     "output_type": "execute_result"
    }
   ],
   "source": [
    "np.unique(data.target)"
   ]
  },
  {
   "cell_type": "code",
   "execution_count": null,
   "id": "08d9c4aa",
   "metadata": {},
   "outputs": [],
   "source": [
    "data."
   ]
  }
 ],
 "metadata": {
  "kernelspec": {
   "display_name": "Python 3",
   "language": "python",
   "name": "python3"
  },
  "language_info": {
   "codemirror_mode": {
    "name": "ipython",
    "version": 3
   },
   "file_extension": ".py",
   "mimetype": "text/x-python",
   "name": "python",
   "nbconvert_exporter": "python",
   "pygments_lexer": "ipython3",
   "version": "3.8.6"
  }
 },
 "nbformat": 4,
 "nbformat_minor": 5
}
